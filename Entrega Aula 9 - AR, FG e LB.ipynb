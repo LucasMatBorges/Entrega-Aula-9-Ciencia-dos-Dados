{
 "cells": [
  {
   "cell_type": "markdown",
   "metadata": {},
   "source": [
    "# Entrega - Aula 9\n",
    "\n",
    "# Arthur Rizzo, Felipe Goichman e Lucas Borges\n",
    "\n",
    "# Turma C"
   ]
  },
  {
   "cell_type": "code",
   "execution_count": 4,
   "metadata": {
    "collapsed": false
   },
   "outputs": [],
   "source": [
    "%matplotlib inline\n",
    "from scipy.stats import lognorm\n",
    "from scipy.stats import t\n",
    "from scipy import stats\n",
    "\n",
    "import os\n",
    "import matplotlib.pyplot as plt\n",
    "import numpy as np\n",
    "import pandas as pd\n",
    "tempos = pd.Series.from_csv(\"tempos.csv\")"
   ]
  },
  {
   "cell_type": "markdown",
   "metadata": {},
   "source": [
    "2) Há outros modelos probabilísticos contínuos:\n",
    "\n",
    "* Uniforme\n",
    "* Normal\n",
    "* Gamma\n",
    "* t-Student\n",
    "* LogNormal\n",
    "* Beta\n",
    "* F-Snedecor\n",
    "\n",
    "\n",
    "Cada grupo de alunos deve ficar com uma distribuição e deve realizar as seguintes atividades (**num IPython Notebook à parte**, que deve ser publicado no **Github** e ter seu link divulgado para a sala até 24/9):\n",
    "\n",
    "\n",
    "2.1. Gere um plot da densidade de probabilidade da distribuição e de sua cumulativa. Descubra como usando o pacote scipy.stats\n",
    "\n",
    "2.2. Qual a forma analítica (expressão) da distribuição?\n",
    "\n",
    "2.3. Quais parâmetros descrevem a distribuição?\n",
    "\n",
    "2.4. Existe uma fórmula específica para calcular esperança (média) e variáncia em função dos parâmetros?\n",
    "\n",
    "2.5. Que tipo de aplicações tem esta distribuição? Em que tipo de dados é normalmente encontrada?\n",
    "\n",
    "2.6. Essa distribuição é útil para a inferência estatística? (Os Capítulos 7 e 8 do Magalhães darão uma idéia de se sim ou não)\n"
   ]
  },
  {
   "cell_type": "code",
   "execution_count": 5,
   "metadata": {
    "collapsed": false
   },
   "outputs": [
    {
     "data": {
      "text/plain": [
       "count    100.000000\n",
       "mean       0.859656\n",
       "std        0.954113\n",
       "min        0.012487\n",
       "25%        0.309008\n",
       "50%        0.540032\n",
       "75%        1.001301\n",
       "max        5.651270\n",
       "dtype: float64"
      ]
     },
     "execution_count": 5,
     "metadata": {},
     "output_type": "execute_result"
    }
   ],
   "source": [
    "tempos.describe()  # Dados do arquivo"
   ]
  },
  {
   "cell_type": "markdown",
   "metadata": {},
   "source": [
    "# LOGNORMAL"
   ]
  },
  {
   "cell_type": "code",
   "execution_count": 8,
   "metadata": {
    "collapsed": false
   },
   "outputs": [
    {
     "data": {
      "image/png": "[encoded data removed]",
      "text/plain": [
       "<matplotlib.figure.Figure at 0x887f668>"
      ]
     },
     "metadata": {},
     "output_type": "display_data"
    }
   ],
   "source": [
    "stddev = tempos.std() # Desvio Padrão\n",
    "mean = tempos.mean() # Média\n",
    "\n",
    "x=np.linspace(0,10,100) # Valor inicial, Valor Final, Número de elementos\n",
    "\n",
    "dist=lognorm([stddev],loc=mean) # Função de parâmetro sigma (desvio padrão) e mi (média)\n",
    "\n",
    "plt.plot(x,dist.pdf(x), lw= 3) # Plota a densidade de probabilidade de distribuição (Probability density function)\n",
    "plt.plot(x,dist.cdf(x), lw = 3) # Plota a cumulativa (Cumulative density function.)\n",
    "plt.suptitle(\"Plot Densidade e Cumulativa - LogNormal\") # Título \n",
    "years = [\"Densidadade de Probabilidade\", 'Função Cumulativa'] # Lista com as legendas\n",
    "plt.legend(years,loc='best') # loc='best' ajeita de melhor maneira a caixa de legendas\n",
    "plt.ylabel('Percentil') # Legenda no eixo Y"
   ]
  },
  {
   "cell_type": "markdown",
   "metadata": {},
   "source": [
    "**Expressão (forma analítica) da distruibuição**\n",
    "\n",
    "$$f(x;\\mu ,\\sigma ) = \\left\\{\\begin{matrix}\n",
    "\\frac{1}{x\\sigma \\sqrt{2\\pi }}exp\\left [ \\frac{-(log(x)-\\mu )^2}{2\\sigma ^2} \\right ],  & x>0  & \\\\\n",
    " 0,x\\leq 0 & &  \n",
    "\\end{matrix}\\right.$$\n",
    "\n"
   ]
  },
  {
   "cell_type": "markdown",
   "metadata": {},
   "source": [
    "**Parâmetros**\n",
    "\n",
    "$$x=Varíavel\\: aleatória \\\\\n",
    "\\mu = Média \\\\\n",
    "\\sigma=Desvio\\:Padrão$$"
   ]
  },
  {
   "cell_type": "markdown",
   "metadata": {},
   "source": [
    "**Cálculo da média**\n",
    "\n",
    "$$E(X) = exp\\left ( \\mu  + \\frac{\\sigma ^2}{2} \\right )$$"
   ]
  },
  {
   "cell_type": "markdown",
   "metadata": {},
   "source": [
    "**Cálculo da variância**\n",
    "$$ Var(X)=exp(2\\mu +\\sigma ^2)\\left ( exp(\\sigma ^2)-1 \\right )$$"
   ]
  },
  {
   "cell_type": "markdown",
   "metadata": {},
   "source": [
    "**Aplicações e Usos**\n",
    "\n",
    "A importância da distribuição log-normal se deve a um resultado análogo ao Teorema do Limite Central: assim como uma distribuição normal aparece quando são somadas várias variáveis independentes (para ver o enunciado mais preciso, consulte o artigo sobre o teorema), a distribuição log-normal aparece naturalmente como o produto de várias variáveis independentes (sempre positivas).\n",
    "\n",
    "A distribuição Log-Normal é muito usada para caracterizar tempo de vida de produtos e materiais. Isto inclui fadiga de metal, semicondutores, diodos e isolação elétrica."
   ]
  },
  {
   "cell_type": "markdown",
   "metadata": {},
   "source": [
    "**Inferência**\n",
    "\n",
    "Essa distribuição pode ter uma inferência quando se tem um grande valor de amostra. Quanto maior a amostra maior será aproximação entre o prático e o téorico."
   ]
  },
  {
   "cell_type": "markdown",
   "metadata": {},
   "source": [
    "# T-STUDENT"
   ]
  },
  {
   "cell_type": "code",
   "execution_count": 7,
   "metadata": {
    "collapsed": false
   },
   "outputs": [
    {
     "data": {
      "text/plain": [
       "<matplotlib.text.Text at 0x9250518>"
      ]
     },
     "execution_count": 7,
     "metadata": {},
     "output_type": "execute_result"
    },
    {
     "data": {
      "image/png": "[encoded data removed]",
      "text/plain": [
       "<matplotlib.figure.Figure at 0x887fa58>"
      ]
     },
     "metadata": {},
     "output_type": "display_data"
    }
   ],
   "source": [
    "df = 99 # Graus de liberdade\n",
    "x = np.linspace(t.ppf(0.01, df),t.ppf(0.99, df), 100) # ppf gera somente uma saída\n",
    "plt.plot(x, t.pdf(x, df),'r-', lw=5, alpha=0.6, label='t pdf') # Plota Densidade de Probabilidade\n",
    "plt.plot(x, t.cdf(x, df),'y', lw=5, alpha=0.6, label='t cdf') # Plota Função Cumulativa\n",
    "plt.suptitle(\"Plot Densidade e Cumulativa - T-STUDENT\") # Título \n",
    "years = [\"Densidadade de Probabilidade\", 'Função Cumulativa'] # Lista com as legendas\n",
    "plt.legend(years,loc='best') # loc='best' ajeita de melhor maneira a caixa de legendas\n",
    "plt.ylabel('Percentil') # Legenda no eixo Y"
   ]
  },
  {
   "cell_type": "markdown",
   "metadata": {
    "collapsed": true
   },
   "source": [
    "**Expressão (forma analítica) da distruibuição**\n"
   ]
  },
  {
   "cell_type": "markdown",
   "metadata": {},
   "source": [
    "$$f(v) = \\frac{\\Gamma(\\frac{\\nu+1}{2})} {\\sqrt{\\nu\\pi}\\,\\Gamma(\\frac{\\nu}{2})} \\left(1+\\frac{t^2}{\\nu} \\right)^{\\!-\\frac{\\nu+1}{2}}$$"
   ]
  },
  {
   "cell_type": "markdown",
   "metadata": {},
   "source": [
    "**Parâmetros**\n",
    "$$ v=Graus\\:de\\:liberdade \\\\ $$"
   ]
  },
  {
   "cell_type": "markdown",
   "metadata": {},
   "source": [
    "**Cálculo da média**\n",
    "\n",
    "$$S_n^{\\;2} = \\frac{1}{n-1}\\sum_{i=1}^n\\left(X_i-\\overline{X}_n\\right)^2$$"
   ]
  },
  {
   "cell_type": "markdown",
   "metadata": {
    "collapsed": true
   },
   "source": [
    "**Cálculo da Variância**\n",
    "\n",
    "$$ V = (n-1)\\frac{S_n^2}{\\sigma^2}   $$"
   ]
  },
  {
   "cell_type": "markdown",
   "metadata": {},
   "source": [
    "**Aplicações e Usos**\n",
    "\n",
    "\n",
    "A distribuição t de Student é uma das distribuições mais utilizadas na estatística, com aplicações que vão desde a modelagem estatística até testes de hipóteses. Seu gráfico é muito próximo a uma distribuição normal (porém com caudas mais largas, gerando valores mais extremos) e quanto maior o grau de liberdade maior será essa aproximação. \n",
    "\n",
    "\n",
    "Sua importância se deve a vários fatores, entre eles podemos citar o teorema central do limite, o qual é um resultado fundamental em aplicações práticas e teóricas, pois ele garante que mesmo que os dados não sejam distribuídos segundo uma normal a média dos dados converge para uma distribuição normal conforme o número de dados aumenta. Além disso diversos estudos práticos tem como resultado uma distribuição normal. Podemos citar como exemplo a altura de uma determinada população em geral segue uma distribuição normal. "
   ]
  },
  {
   "cell_type": "markdown",
   "metadata": {},
   "source": [
    "**Inferência**\n",
    "\n",
    "Essa distribuição, semelhante a distribuição normal pode ser usado para inferir uma determinada população. Na natureza encontramos diversos exemplos de distribuições que se encontram na fórmula dessa distribuição."
   ]
  }
 ],
 "metadata": {
  "kernelspec": {
   "display_name": "Python 3",
   "language": "python",
   "name": "python3"
  },
  "language_info": {
   "codemirror_mode": {
    "name": "ipython",
    "version": 3
   },
   "file_extension": ".py",
   "mimetype": "text/x-python",
   "name": "python",
   "nbconvert_exporter": "python",
   "pygments_lexer": "ipython3",
   "version": "3.4.3"
  }
 },
 "nbformat": 4,
 "nbformat_minor": 0
}
